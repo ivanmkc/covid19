{
 "cells": [
  {
   "cell_type": "markdown",
   "metadata": {},
   "source": [
    "## Download dataset \n",
    "\n",
    "Dataset is at https://github.com/CSSEGISandData/COVID-19/blob/master/csse_covid_19_data/csse_covid_19_time_series/"
   ]
  },
  {
   "cell_type": "code",
   "execution_count": 271,
   "metadata": {},
   "outputs": [
    {
     "name": "stdout",
     "output_type": "stream",
     "text": [
      "Retrieved results from 2020-01-22 00:00:00 to 2020-03-16 00:00:00\n"
     ]
    }
   ],
   "source": [
    "import pandas as pd\n",
    "import requests\n",
    "import io\n",
    "\n",
    "confirmedUrl = 'https://github.com/CSSEGISandData/COVID-19/raw/master/csse_covid_19_data/csse_covid_19_time_series/time_series_19-covid-Confirmed.csv'\n",
    "deathsUrl = 'https://github.com/CSSEGISandData/COVID-19/raw/master/csse_covid_19_data/csse_covid_19_time_series/time_series_19-covid-Deaths.csv'\n",
    "\n",
    "r = requests.post(confirmedUrl)\n",
    "if r.ok:\n",
    "    data = r.content.decode('utf8')\n",
    "    df = pd.read_csv(io.StringIO(data))\n",
    "    \n",
    "# Rename Province/State and Country/Region\n",
    "df = df.rename(columns={'Province/State': 'provincestate', 'Country/Region': 'countryregion'})\n",
    "\n",
    "# Remove unneeded columns\n",
    "df = df.drop(['Lat', 'Long', 'provincestate'], axis=1)\n",
    "\n",
    "# Reshape \n",
    "df_confirmed = df.melt(var_name='date', value_name='confirmed', id_vars='countryregion')\n",
    "df_confirmed['date'] = pd.to_datetime(df_confirmed['date'])\n",
    "\n",
    "print('Retrieved results from {} to {}'.format(df_confirmed['date'].min(), df_confirmed['date'].max()))\n"
   ]
  },
  {
   "cell_type": "code",
   "execution_count": 272,
   "metadata": {},
   "outputs": [],
   "source": [
    "### Group values by countryregion\n",
    "df_confirmed_grouped = df_confirmed[['date','countryregion', 'confirmed']].groupby(['date', 'countryregion']).sum()"
   ]
  },
  {
   "cell_type": "markdown",
   "metadata": {},
   "source": [
    "## Calculate metrics"
   ]
  },
  {
   "cell_type": "code",
   "execution_count": null,
   "metadata": {},
   "outputs": [],
   "source": [
    "# Calculate change\n",
    "window = 5\n",
    "growthCalculation = lambda x: (x.max())\n",
    "\n",
    "from sklearn.linear_model import LinearRegression\n",
    "linear_regressor = LinearRegression()\n",
    "\n",
    "x = pd.Series(range(0,window)).values.reshape(-1,1)\n",
    "linearCoefficient = lambda values: (linear_regressor.fit(x, values.values.reshape(-1,1)).coef_)\n",
    "\n",
    "df_confirmed_grouped = df_confirmed_grouped.reset_index()\n",
    "df_confirmed_grouped['growth_rate'] = df_confirmed_grouped.groupby(['countryregion'])['confirmed'].rolling(window).apply(linearCoefficient).fillna(0).reset_index(level=0, drop=True)\n",
    "df_confirmed_grouped['acceleration_rate'] = df_confirmed_grouped['growth_rate'].rolling(window).apply(linearCoefficient).fillna(0)\n",
    "\n",
    "df_confirmed_grouped.head(10)"
   ]
  },
  {
   "cell_type": "markdown",
   "metadata": {},
   "source": [
    "## Prepare China data for plotting"
   ]
  },
  {
   "cell_type": "code",
   "execution_count": null,
   "metadata": {},
   "outputs": [],
   "source": [
    "# Prepare China\n",
    "df_china = df_confirmed_grouped.query('countryregion == \"China\"')\n",
    "df_china_prepared = df_china.groupby('date').sum().rename(columns=lambda x: x+' (China)')\n",
    "\n",
    "df_china_prepared.head()"
   ]
  },
  {
   "cell_type": "code",
   "execution_count": null,
   "metadata": {},
   "outputs": [],
   "source": [
    "# Convert to tidy format\n",
    "df_china_prepared = df_china_prepared.reset_index().melt(id_vars=\"date\")\n",
    "\n",
    "df_china_prepared.head()"
   ]
  },
  {
   "cell_type": "markdown",
   "metadata": {},
   "source": [
    "## Prepare non-China data for plotting"
   ]
  },
  {
   "cell_type": "code",
   "execution_count": null,
   "metadata": {},
   "outputs": [],
   "source": [
    "# Prepare non-China\n",
    "# print(df_confirmed_grouped.index.unique(level='countryregion'))\n",
    "df_non_china = df_confirmed_grouped.query('countryregion != \"\"')\n",
    "\n",
    "# Drop growth rate calculations as they were done per country\n",
    "df_non_china = df_non_china.drop(['growth_rate', 'acceleration_rate'], axis=1)\n",
    "df_non_china = df_non_china.groupby('date').sum()\n",
    "\n",
    "df_non_china.head(10)"
   ]
  },
  {
   "cell_type": "code",
   "execution_count": null,
   "metadata": {},
   "outputs": [],
   "source": [
    "# Calculate growth again\n",
    "df_non_china['growth_rate'] = df_non_china['confirmed'].rolling(window).apply(linearCoefficient).fillna(0)\n",
    "df_non_china['acceleration_rate'] = df_non_china['growth_rate'].rolling(window).apply(linearCoefficient).fillna(0)\n",
    "\n",
    "df_non_china.head()"
   ]
  },
  {
   "cell_type": "code",
   "execution_count": null,
   "metadata": {},
   "outputs": [],
   "source": [
    "# Convert to 'tidy' format for plotting\n",
    "df_non_china_prepared = df_non_china.rename(columns=lambda x: x+' (non-China)').reset_index().melt(id_vars=\"date\")\n",
    "df_non_china_prepared.head()"
   ]
  },
  {
   "cell_type": "markdown",
   "metadata": {},
   "source": [
    "## Plot"
   ]
  },
  {
   "cell_type": "code",
   "execution_count": null,
   "metadata": {},
   "outputs": [],
   "source": [
    "# Show fig\n",
    "import plotly.express as px\n",
    "import plotly.graph_objects as go\n",
    "\n",
    "colorSequence = [\"red\", \"royalblue\"]\n",
    "\n",
    "layout = go.Layout(title=\"COVID-19 in China and non-China\", margin={\"l\": 100, \"r\": 100},\n",
    "                   colorway=[\"#287D95\", \"#EF533B\"], legend={\"x\": 0.7, \"y\": 1, 'orientation': \"h\"},\n",
    "                   yaxis={'title': 'Confirmed cases'},\n",
    "                   yaxis2={'title': 'Growth/Accel rate in cases', 'overlaying': 'y', 'side': 'right', \"showgrid\": False},\n",
    "                   xaxis={\"title\": \"Date\"},\n",
    "                   height=1000)\n",
    "\n",
    "chinaColor = colorSequence[0]\n",
    "nonChinaColor = colorSequence[1]\n",
    "colorMap = {'confirmed (China)':chinaColor, \n",
    "           'growth_rate (China)':chinaColor, \n",
    "           'acceleration_rate (China)':chinaColor, \n",
    "           'confirmed (non-China)':nonChinaColor, \n",
    "           'growth_rate (non-China)':nonChinaColor,\n",
    "           'acceleration_rate (non-China)':nonChinaColor,\n",
    "          }\n",
    "\n",
    "# Only plot 'confirmed', since we can't control the dashed lines and second-axes using Plotly Express\n",
    "traces_confirmed = px.line(pd.concat([df_china_prepared, df_non_china_prepared]).query('variable == [\"confirmed (China)\", \"confirmed (non-China)\"]'), \n",
    "                           x='date', \n",
    "                           y='value', \n",
    "                           color='variable',\n",
    "                           color_discrete_map=colorMap,).data\n",
    "\n",
    "# Reset index\n",
    "df_non_china = df_non_china.reset_index()\n",
    "\n",
    "# Add growth rate\n",
    "trace_growth_china = go.Scatter(x=df_china['date'], \n",
    "                                y=df_china['growth_rate'], \n",
    "                                name='Growth rate (China)',\n",
    "                                line=dict(color=chinaColor, \n",
    "                                          width=4, \n",
    "                                          dash='dash'), \n",
    "                                yaxis=\"y2\")\n",
    "trace_growth_non_china = go.Scatter(x=df_non_china['date'], \n",
    "                                    y=df_non_china['growth_rate'], \n",
    "                                    name='Growth rate (non-China)',\n",
    "                                    line=dict(color=nonChinaColor, \n",
    "                                              width=4, \n",
    "                                              dash='dash'), \n",
    "                                    yaxis=\"y2\")\n",
    "\n",
    "# Add acceleration rate\n",
    "trace_accel_china = go.Scatter(x=df_china['date'], \n",
    "                               y=df_china['acceleration_rate'], \n",
    "                               name='Accel. rate (China)',\n",
    "                         line=dict(color=chinaColor, \n",
    "                                   width=2, \n",
    "                                   dash='dot'), \n",
    "                               yaxis=\"y2\")\n",
    "\n",
    "trace_accel_non_china = go.Scatter(x=df_non_china['date'], \n",
    "                                   y=df_non_china['acceleration_rate'], \n",
    "                                   name='Accel. rate (non-China)',\n",
    "                         line=dict(color=nonChinaColor, \n",
    "                                   width=2, \n",
    "                                   dash='dot'), \n",
    "                                   yaxis=\"y2\")\n",
    "\n",
    "# Combine to make a tuple\n",
    "traces_combined = traces_confirmed + (trace_growth_china, trace_accel_china, trace_growth_non_china, trace_accel_non_china,)\n",
    "fig = go.Figure(data=traces_combined, layout=layout)\n",
    "fig.show()"
   ]
  },
  {
   "cell_type": "markdown",
   "metadata": {},
   "source": [
    "## Prepare top countries for plotting"
   ]
  },
  {
   "cell_type": "code",
   "execution_count": null,
   "metadata": {},
   "outputs": [],
   "source": [
    "#Get top ten countries by total cases\n",
    "df_non_china = df_confirmed_grouped.query('countryregion != \"China\"')\n",
    "\n",
    "top_countries_by_total_cases = df_non_china.groupby('countryregion').sum().nlargest(10, 'confirmed').reset_index()['countryregion']\n",
    "df_non_china_top = df_confirmed_grouped[df_confirmed_grouped.reset_index()['countryregion'].isin(top_countries_by_total_cases)]\n",
    "\n",
    "df_non_china_top.head()"
   ]
  },
  {
   "cell_type": "code",
   "execution_count": null,
   "metadata": {},
   "outputs": [],
   "source": [
    "# Only plot 'confirmed', since we can't control the dashed lines and second-axes using Plotly Express\n",
    "traces_confirmed = px.line(pd.concat([df_non_china_top]), \n",
    "                           x='date', \n",
    "                           y='confirmed', \n",
    "                           color='countryregion').data\n",
    "\n",
    "# Only plot 'growth'\n",
    "traces_growth = px.line(pd.concat([df_non_china_top]), \n",
    "                           x='date', \n",
    "                           y='growth_rate', \n",
    "                           color='countryregion').data\n",
    "\n",
    "# Only plot 'acceleration'\n",
    "traces_acceleration = px.line(pd.concat([df_non_china_top]), \n",
    "                           x='date', \n",
    "                           y='acceleration_rate', \n",
    "                           color='countryregion').data\n",
    "\n",
    "# traces_combined = traces_confirmed + traces_growth + traces_acceleration"
   ]
  },
  {
   "cell_type": "markdown",
   "metadata": {},
   "source": [
    "## Plot"
   ]
  },
  {
   "cell_type": "code",
   "execution_count": null,
   "metadata": {},
   "outputs": [],
   "source": [
    "layout = go.Layout(title=\"COVID-19 cases in non-China countries\", margin={\"l\": 100, \"r\": 100},\n",
    "                   colorway=[\"#287D95\", \"#EF533B\"], legend={\"x\": 0.7, \"y\": 1, 'orientation': \"h\"},\n",
    "                   yaxis={'title': 'Confirmed cases'},\n",
    "                   yaxis2={'title': 'Growth/Accel rate in cases', 'overlaying': 'y', 'side': 'right', \"showgrid\": False},\n",
    "                   xaxis={\"title\": \"Date\"},\n",
    "                   height=1000)\n",
    "\n",
    "fig = go.Figure(data=traces_confirmed, layout=layout)\n",
    "fig.show()"
   ]
  },
  {
   "cell_type": "code",
   "execution_count": null,
   "metadata": {},
   "outputs": [],
   "source": [
    "layout = go.Layout(title=\"COVID-19 growth rate in non-China countries\", margin={\"l\": 100, \"r\": 100},\n",
    "                   colorway=[\"#287D95\", \"#EF533B\"], legend={\"x\": 0.7, \"y\": 1, 'orientation': \"h\"},\n",
    "                   yaxis={'title': 'Confirmed cases'},\n",
    "                   yaxis2={'title': 'Growth/Accel rate in cases', 'overlaying': 'y', 'side': 'right', \"showgrid\": False},\n",
    "                   xaxis={\"title\": \"Date\"},\n",
    "                   height=1000)\n",
    "\n",
    "fig = go.Figure(data=traces_growth, layout=layout)\n",
    "fig.show()"
   ]
  },
  {
   "cell_type": "code",
   "execution_count": null,
   "metadata": {},
   "outputs": [],
   "source": [
    "layout = go.Layout(title=\"COVID-19 acceleration rate in non-China countries\", margin={\"l\": 100, \"r\": 100},\n",
    "                   colorway=[\"#287D95\", \"#EF533B\"], legend={\"x\": 0.7, \"y\": 1, 'orientation': \"h\"},\n",
    "                   yaxis={'title': 'Confirmed cases'},\n",
    "                   yaxis2={'title': 'Growth/Accel rate in cases', 'overlaying': 'y', 'side': 'right', \"showgrid\": False},\n",
    "                   xaxis={\"title\": \"Date\"},\n",
    "                   height=1000)\n",
    "\n",
    "fig = go.Figure(data=traces_acceleration, layout=layout)\n",
    "fig.show()"
   ]
  },
  {
   "cell_type": "code",
   "execution_count": null,
   "metadata": {},
   "outputs": [],
   "source": []
  }
 ],
 "metadata": {
  "kernelspec": {
   "display_name": "Python 3",
   "language": "python",
   "name": "python3"
  },
  "language_info": {
   "codemirror_mode": {
    "name": "ipython",
    "version": 3
   },
   "file_extension": ".py",
   "mimetype": "text/x-python",
   "name": "python",
   "nbconvert_exporter": "python",
   "pygments_lexer": "ipython3",
   "version": "3.7.7"
  }
 },
 "nbformat": 4,
 "nbformat_minor": 4
}
